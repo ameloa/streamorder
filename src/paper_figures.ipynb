{
 "cells": [
  {
   "cell_type": "markdown",
   "metadata": {},
   "source": [
    "# Prioritized Restreaming Algorithms for Balanced Graph Partitioning"
   ]
  },
  {
   "cell_type": "markdown",
   "metadata": {},
   "source": [
    "#### Amel Awadelkarim"
   ]
  },
  {
   "cell_type": "markdown",
   "metadata": {},
   "source": [
    "This notebook walks through the generation of all plots in the paper for a chosen test network after one trial of each method. Note that all results in the paper were averaged over 10 trials to account for random initializations and variability in tie-breaks."
   ]
  },
  {
   "cell_type": "markdown",
   "metadata": {},
   "source": [
    "## Importing modules"
   ]
  },
  {
   "cell_type": "markdown",
   "metadata": {},
   "source": [
    "`Cython` is used to accelerate our implementation of reLDG. To build `Cython` code, uncomment the following lines:"
   ]
  },
  {
   "cell_type": "code",
   "execution_count": 14,
   "metadata": {},
   "outputs": [
    {
     "name": "stdout",
     "output_type": "stream",
     "text": [
      "Defaulting to user installation because normal site-packages is not writeable\n",
      "Requirement already satisfied: pip in /home/ameloa/.local/lib/python3.10/site-packages (23.0.1)\n"
     ]
    }
   ],
   "source": [
    "!{sys.executable} -m pip install pip --upgrade"
   ]
  },
  {
   "cell_type": "code",
   "execution_count": 20,
   "metadata": {
    "tags": []
   },
   "outputs": [
    {
     "name": "stdout",
     "output_type": "stream",
     "text": [
      "Defaulting to user installation because normal site-packages is not writeable\n",
      "Requirement already satisfied: Cython in /home/ameloa/.local/lib/python3.10/site-packages (0.29.33)\n",
      "\u001b[39mrunning build_ext\u001b[0m\n",
      "\u001b[39mcopying build/lib.linux-x86_64-cpython-310/src/alg.cpython-310-x86_64-linux-gnu.so -> src\u001b[0m\n"
     ]
    }
   ],
   "source": [
    "# If reLDG cython module is not built, uncomment and execute the following:\n",
    "!{sys.executable} -m pip install Cython\n",
    "!python3 setup.py build_ext --inplace\n",
    "!mv src/* .\n",
    "!rm -rf src/"
   ]
  },
  {
   "cell_type": "markdown",
   "metadata": {},
   "source": [
    "We use `cvxpy` to run the linear program of BLP. If not installed, uncomment the following lines:"
   ]
  },
  {
   "cell_type": "code",
   "execution_count": 5,
   "metadata": {
    "collapsed": true,
    "jupyter": {
     "outputs_hidden": true
    },
    "tags": []
   },
   "outputs": [
    {
     "name": "stdout",
     "output_type": "stream",
     "text": [
      "Defaulting to user installation because normal site-packages is not writeable\n",
      "Collecting cvxpy\n",
      "  Downloading cvxpy-1.3.0-cp310-cp310-manylinux_2_17_x86_64.manylinux2014_x86_64.whl (4.0 MB)\n",
      "\u001b[2K     \u001b[90m━━━━━━━━━━━━━━━━━━━━━━━━━━━━━━━━━━━━━━━━\u001b[0m \u001b[32m4.0/4.0 MB\u001b[0m \u001b[31m8.2 MB/s\u001b[0m eta \u001b[36m0:00:00\u001b[0m:00:01\u001b[0m00:01\u001b[0m\n",
      "\u001b[?25hCollecting scs>=1.1.6\n",
      "  Downloading scs-3.2.2-cp310-cp310-manylinux_2_17_x86_64.manylinux2014_x86_64.whl (10.7 MB)\n",
      "\u001b[2K     \u001b[90m━━━━━━━━━━━━━━━━━━━━━━━━━━━━━━━━━━━━━━━━\u001b[0m \u001b[32m10.7/10.7 MB\u001b[0m \u001b[31m20.8 MB/s\u001b[0m eta \u001b[36m0:00:00\u001b[0m00:01\u001b[0m0:01\u001b[0m\n",
      "\u001b[?25hRequirement already satisfied: scipy>=1.1.0 in /share/sw/python3.10/dist-packages (from cvxpy) (1.8.0)\n",
      "Requirement already satisfied: setuptools<=64.0.2 in /share/sw/python3.10/dist-packages (from cvxpy) (63.1.0)\n",
      "Requirement already satisfied: numpy>=1.15 in /share/sw/python3.10/dist-packages (from cvxpy) (1.23.1)\n",
      "Collecting osqp>=0.4.1\n",
      "  Downloading osqp-0.6.2.post8-cp310-cp310-manylinux_2_5_x86_64.manylinux1_x86_64.manylinux_2_17_x86_64.manylinux2014_x86_64.whl (298 kB)\n",
      "\u001b[2K     \u001b[90m━━━━━━━━━━━━━━━━━━━━━━━━━━━━━━━━━━━━━━━\u001b[0m \u001b[32m298.4/298.4 kB\u001b[0m \u001b[31m1.5 MB/s\u001b[0m eta \u001b[36m0:00:00\u001b[0m00:01\u001b[0m\n",
      "\u001b[?25hCollecting ecos>=2\n",
      "  Downloading ecos-2.0.12-cp310-cp310-manylinux_2_17_x86_64.manylinux2014_x86_64.whl (220 kB)\n",
      "\u001b[2K     \u001b[90m━━━━━━━━━━━━━━━━━━━━━━━━━━━━━━━━━━━━━\u001b[0m \u001b[32m220.3/220.3 kB\u001b[0m \u001b[31m939.1 kB/s\u001b[0m eta \u001b[36m0:00:00\u001b[0m00:01\u001b[0m\n",
      "\u001b[?25hCollecting qdldl\n",
      "  Downloading qdldl-0.1.5.post3-cp310-cp310-manylinux_2_17_x86_64.manylinux2014_x86_64.whl (1.0 MB)\n",
      "\u001b[2K     \u001b[90m━━━━━━━━━━━━━━━━━━━━━━━━━━━━━━━━━━━━━━━━\u001b[0m \u001b[32m1.0/1.0 MB\u001b[0m \u001b[31m3.8 MB/s\u001b[0m eta \u001b[36m0:00:00\u001b[0m:00:01\u001b[0m\n",
      "\u001b[?25hInstalling collected packages: scs, qdldl, ecos, osqp, cvxpy\n",
      "Successfully installed cvxpy-1.3.0 ecos-2.0.12 osqp-0.6.2.post8 qdldl-0.1.5.post3 scs-3.2.2\n",
      "--- Logging error ---\n",
      "Traceback (most recent call last):\n",
      "  File \"/usr/local/lib/python3.10/dist-packages/pip/_internal/utils/logging.py\", line 177, in emit\n",
      "    self.console.print(renderable, overflow=\"ignore\", crop=False, style=style)\n",
      "  File \"/usr/local/lib/python3.10/dist-packages/pip/_vendor/rich/console.py\", line 1752, in print\n",
      "    extend(render(renderable, render_options))\n",
      "  File \"/usr/local/lib/python3.10/dist-packages/pip/_vendor/rich/console.py\", line 1390, in render\n",
      "    for render_output in iter_render:\n",
      "  File \"/usr/local/lib/python3.10/dist-packages/pip/_internal/utils/logging.py\", line 134, in __rich_console__\n",
      "    for line in lines:\n",
      "  File \"/usr/local/lib/python3.10/dist-packages/pip/_vendor/rich/segment.py\", line 245, in split_lines\n",
      "    for segment in segments:\n",
      "  File \"/usr/local/lib/python3.10/dist-packages/pip/_vendor/rich/console.py\", line 1368, in render\n",
      "    renderable = rich_cast(renderable)\n",
      "  File \"/usr/local/lib/python3.10/dist-packages/pip/_vendor/rich/protocol.py\", line 36, in rich_cast\n",
      "    renderable = cast_method()\n",
      "  File \"/usr/local/lib/python3.10/dist-packages/pip/_internal/self_outdated_check.py\", line 130, in __rich__\n",
      "    pip_cmd = get_best_invocation_for_this_pip()\n",
      "  File \"/usr/local/lib/python3.10/dist-packages/pip/_internal/utils/entrypoints.py\", line 58, in get_best_invocation_for_this_pip\n",
      "    if found_executable and os.path.samefile(\n",
      "  File \"/usr/lib/python3.10/genericpath.py\", line 101, in samefile\n",
      "    s2 = os.stat(f2)\n",
      "FileNotFoundError: [Errno 2] No such file or directory: '/usr/bin/pip'\n",
      "Call stack:\n",
      "  File \"/usr/lib/python3.10/runpy.py\", line 196, in _run_module_as_main\n",
      "    return _run_code(code, main_globals, None,\n",
      "  File \"/usr/lib/python3.10/runpy.py\", line 86, in _run_code\n",
      "    exec(code, run_globals)\n",
      "  File \"/usr/local/lib/python3.10/dist-packages/pip/__main__.py\", line 31, in <module>\n",
      "    sys.exit(_main())\n",
      "  File \"/usr/local/lib/python3.10/dist-packages/pip/_internal/cli/main.py\", line 70, in main\n",
      "    return command.main(cmd_args)\n",
      "  File \"/usr/local/lib/python3.10/dist-packages/pip/_internal/cli/base_command.py\", line 101, in main\n",
      "    return self._main(args)\n",
      "  File \"/usr/local/lib/python3.10/dist-packages/pip/_internal/cli/base_command.py\", line 223, in _main\n",
      "    self.handle_pip_version_check(options)\n",
      "  File \"/usr/local/lib/python3.10/dist-packages/pip/_internal/cli/req_command.py\", line 148, in handle_pip_version_check\n",
      "    pip_self_version_check(session, options)\n",
      "  File \"/usr/local/lib/python3.10/dist-packages/pip/_internal/self_outdated_check.py\", line 237, in pip_self_version_check\n",
      "    logger.info(\"[present-rich] %s\", upgrade_prompt)\n",
      "  File \"/usr/lib/python3.10/logging/__init__.py\", line 1477, in info\n",
      "    self._log(INFO, msg, args, **kwargs)\n",
      "  File \"/usr/lib/python3.10/logging/__init__.py\", line 1624, in _log\n",
      "    self.handle(record)\n",
      "  File \"/usr/lib/python3.10/logging/__init__.py\", line 1634, in handle\n",
      "    self.callHandlers(record)\n",
      "  File \"/usr/lib/python3.10/logging/__init__.py\", line 1696, in callHandlers\n",
      "    hdlr.handle(record)\n",
      "  File \"/usr/lib/python3.10/logging/__init__.py\", line 968, in handle\n",
      "    self.emit(record)\n",
      "  File \"/usr/local/lib/python3.10/dist-packages/pip/_internal/utils/logging.py\", line 179, in emit\n",
      "    self.handleError(record)\n",
      "Message: '[present-rich] %s'\n",
      "Arguments: (UpgradePrompt(old='22.1.2', new='23.0.1'),)\n"
     ]
    }
   ],
   "source": [
    "# If cvxpy is not installed, uncomment and execute the following:\n",
    "!{sys.executable} -m pip install cvxpy"
   ]
  },
  {
   "cell_type": "code",
   "execution_count": 21,
   "metadata": {},
   "outputs": [
    {
     "name": "stdout",
     "output_type": "stream",
     "text": [
      "The autoreload extension is already loaded. To reload it, use:\n",
      "  %reload_ext autoreload\n"
     ]
    }
   ],
   "source": [
    "%load_ext autoreload\n",
    "\n",
    "# General modules\n",
    "import os\n",
    "import sys\n",
    "import numpy as np\n",
    "from scipy.stats import weightedtau\n",
    "\n",
    "# Methods\n",
    "import readdata\n",
    "from blp import *\n",
    "from shp import *\n",
    "from reldg import *\n",
    "\n",
    "# Plotting\n",
    "%matplotlib inline\n",
    "import matplotlib\n",
    "import matplotlib.pyplot as plt\n",
    "plt.rc('text', usetex=True)\n",
    "import seaborn as sns"
   ]
  },
  {
   "cell_type": "markdown",
   "metadata": {},
   "source": [
    "## Partitioning and Network Parameters"
   ]
  },
  {
   "cell_type": "markdown",
   "metadata": {},
   "source": [
    "If not `web-NotreDame`, change the following cell:"
   ]
  },
  {
   "cell_type": "code",
   "execution_count": 22,
   "metadata": {},
   "outputs": [],
   "source": [
    "network = 'web-NotreDame'\n",
    "data_directory = '../data/'\n",
    "num_shards = 16\n",
    "num_iterations = 10\n",
    "epsilon = 0.0"
   ]
  },
  {
   "cell_type": "code",
   "execution_count": 23,
   "metadata": {},
   "outputs": [],
   "source": [
    "filename = data_directory + network + '.txt'\n",
    "if not os.path.exists(filename):\n",
    "    print(\"Network not in directory.\")\n",
    "    print(\"Please download the .txt file from SNAP repository (http://snap.stanford.edu/data/index.html) and place in \" + data_directory + \" directory.\")"
   ]
  },
  {
   "cell_type": "markdown",
   "metadata": {},
   "source": [
    "Edges are hardcoded, though can be changed if needed. If testing other than these example networks, ensure that `num_edges` holds the correct value."
   ]
  },
  {
   "cell_type": "code",
   "execution_count": 24,
   "metadata": {},
   "outputs": [],
   "source": [
    "edges_dict = {\n",
    "    'soc-Pokec': 30622564,\n",
    "    'com-LiveJournal': 68993773,\n",
    "    'com-Orkut': 117185083, \n",
    "    'web-NotreDame': 1497134, \n",
    "    'web-Stanford': 2312497, \n",
    "    'web-Google': 5105039, \n",
    "    'web-BerkStan': 7600595\n",
    "} # hardcoded for now\n",
    "num_edges = edges_dict[network]"
   ]
  },
  {
   "cell_type": "markdown",
   "metadata": {},
   "source": [
    "## Load network"
   ]
  },
  {
   "cell_type": "code",
   "execution_count": 13,
   "metadata": {},
   "outputs": [
    {
     "name": "stdout",
     "output_type": "stream",
     "text": [
      "Reading edge list in to memory... Done.\n"
     ]
    }
   ],
   "source": [
    "print('Reading edge list in to memory...', end =\" \")\n",
    "neighbors_map, num_nodes, node_indices, edges = readdata.get_clean_data(data_directory, network, num_edges, shuffle=False)\n",
    "print('Done.')"
   ]
  },
  {
   "cell_type": "code",
   "execution_count": 14,
   "metadata": {},
   "outputs": [
    {
     "name": "stdout",
     "output_type": "stream",
     "text": [
      "Network:  web-NotreDame\n",
      "Average degree:  6.777631098244246\n"
     ]
    }
   ],
   "source": [
    "if not os.path.exists(data_directory + network + '_edges.txt'):\n",
    "    np.savetxt(data_directory + network + '_edges.txt', edges.astype(np.int32))\n",
    "degrees = np.array([len(neighbor_list) for neighbor_list in neighbors_map])\n",
    "if not os.path.exists(data_directory + network + '_degrees.txt'):\n",
    "    np.savetxt(data_directory + network + '_degrees.txt', degrees.astype(np.int32))\n",
    "print('Network: ', network)\n",
    "print('Average degree: ', float(sum(degrees))/num_nodes)"
   ]
  },
  {
   "cell_type": "code",
   "execution_count": 15,
   "metadata": {},
   "outputs": [],
   "source": [
    "initialization_file = data_directory + network + '_' + str(num_shards) + 'shards_init.txt'\n",
    "if os.path.exists(initialization_file):\n",
    "    initialization = np.loadtxt(initialization_file).astype(np.int32)\n",
    "else:\n",
    "    initialization = None"
   ]
  },
  {
   "cell_type": "markdown",
   "metadata": {},
   "source": [
    "## Running methods"
   ]
  },
  {
   "cell_type": "markdown",
   "metadata": {},
   "source": [
    "### Balanced Label Propagation"
   ]
  },
  {
   "cell_type": "code",
   "execution_count": 17,
   "metadata": {},
   "outputs": [
    {
     "name": "stdout",
     "output_type": "stream",
     "text": [
      "Loading or generating random initialization...\n",
      "Initializing structures for collecting periodicity data...\n",
      "Beginning BLP...\n",
      "0: Internal edge fraction =  0.3097929899880915\n",
      "1: Internal edge fraction =  0.42806695381694104\n",
      "2: Internal edge fraction =  0.4826620452051053\n",
      "3: Internal edge fraction =  0.5127471439358492\n",
      "4: Internal edge fraction =  0.5353184419236381\n",
      "5: Internal edge fraction =  0.5459876041312315\n",
      "6: Internal edge fraction =  0.5563795511197094\n",
      "7: Internal edge fraction =  0.5604354090804291\n",
      "8: Internal edge fraction =  0.5690789071378842\n",
      "9: Internal edge fraction =  0.5714696619197335\n"
     ]
    }
   ],
   "source": [
    "initialization, blpEdgeFracs, blpPeriodicity = blp(num_nodes, \n",
    "                                                   neighbors_map, \n",
    "                                                   num_shards, \n",
    "                                                   num_iterations, \n",
    "                                                   epsilon, \n",
    "                                                   return_periodicity = True,\n",
    "                                                   initialization = initialization)"
   ]
  },
  {
   "cell_type": "code",
   "execution_count": 18,
   "metadata": {},
   "outputs": [],
   "source": [
    "if not os.path.exists(initialization_file):\n",
    "    np.savetxt(initialization_file, initialization)"
   ]
  },
  {
   "cell_type": "code",
   "execution_count": 19,
   "metadata": {},
   "outputs": [
    {
     "data": {
      "text/plain": [
       "<matplotlib.legend.Legend at 0x7ff5b846ea60>"
      ]
     },
     "execution_count": 19,
     "metadata": {},
     "output_type": "execute_result"
    },
    {
     "data": {
      "image/png": "[encoded data removed]",
      "text/plain": [
       "<Figure size 432x288 with 1 Axes>"
      ]
     },
     "metadata": {
      "needs_background": "light"
     },
     "output_type": "display_data"
    }
   ],
   "source": [
    "fig, ax = plt.subplots()\n",
    "ax.plot(blpEdgeFracs, marker = '.', label = 'BLP')\n",
    "ax.set_ylim((0.0,1.0))\n",
    "ax.set_ylabel('Internal Edge Fraction')\n",
    "ax.set_xlabel('Iteration')\n",
    "ax.legend()"
   ]
  },
  {
   "cell_type": "markdown",
   "metadata": {},
   "source": [
    "### Social Hash"
   ]
  },
  {
   "cell_type": "code",
   "execution_count": 20,
   "metadata": {},
   "outputs": [
    {
     "name": "stdout",
     "output_type": "stream",
     "text": [
      "Loading or generating random initialization...\n",
      "Beginning SHP, version I...\n",
      "0: Internal edge fraction =  0.29196696428045665\n",
      "1: Internal edge fraction =  0.4696818502394605\n",
      "2: Internal edge fraction =  0.5578236068689583\n",
      "3: Internal edge fraction =  0.6266391142520783\n",
      "4: Internal edge fraction =  0.6699408562235949\n",
      "5: Internal edge fraction =  0.7046833518218973\n",
      "6: Internal edge fraction =  0.729042959752608\n",
      "7: Internal edge fraction =  0.7561167402208028\n",
      "8: Internal edge fraction =  0.7743341285907185\n",
      "9: Internal edge fraction =  0.7884413030745976\n"
     ]
    }
   ],
   "source": [
    "shpIEdgeFracs, _ = shp(num_nodes, \n",
    "                       neighbors_map,\n",
    "                       num_shards,\n",
    "                       num_iterations,\n",
    "                       initialization = np.loadtxt(initialization_file).astype(np.int32),\n",
    "                       version = 'I')"
   ]
  },
  {
   "cell_type": "code",
   "execution_count": 21,
   "metadata": {},
   "outputs": [
    {
     "name": "stdout",
     "output_type": "stream",
     "text": [
      "Loading or generating random initialization...\n",
      "Beginning SHP, version II...\n",
      "0: Internal edge fraction =  0.2974859025642861\n",
      "1: Internal edge fraction =  0.4574073763708451\n",
      "2: Internal edge fraction =  0.525624062643392\n",
      "3: Internal edge fraction =  0.5611510954304333\n",
      "4: Internal edge fraction =  0.5878769979766006\n",
      "5: Internal edge fraction =  0.6009233259847142\n",
      "6: Internal edge fraction =  0.6160324613585991\n",
      "7: Internal edge fraction =  0.6258582007916941\n",
      "8: Internal edge fraction =  0.6358642207104229\n",
      "9: Internal edge fraction =  0.640777996359059\n"
     ]
    }
   ],
   "source": [
    "shpIIEdgeFracs, _ = shp(num_nodes, \n",
    "                        neighbors_map,\n",
    "                        num_shards,\n",
    "                        num_iterations,\n",
    "                        initialization = np.loadtxt(initialization_file).astype(np.int32),\n",
    "                        version = 'II')"
   ]
  },
  {
   "cell_type": "code",
   "execution_count": 24,
   "metadata": {},
   "outputs": [
    {
     "name": "stdout",
     "output_type": "stream",
     "text": [
      "Loading or generating random initialization...\n",
      "Initializing structures for collecting periodicity data...\n",
      "Beginning SHP, version KL...\n",
      "0: Internal edge fraction =  0.28757047585441853\n",
      "1: Internal edge fraction =  0.4384108864047224\n",
      "2: Internal edge fraction =  0.5008595030690715\n",
      "3: Internal edge fraction =  0.5409723640886708\n",
      "4: Internal edge fraction =  0.5636242900323463\n",
      "5: Internal edge fraction =  0.57955057615016\n",
      "6: Internal edge fraction =  0.5944522530757527\n",
      "7: Internal edge fraction =  0.6042317899723283\n",
      "8: Internal edge fraction =  0.609420063043814\n",
      "9: Internal edge fraction =  0.6153068097556202\n"
     ]
    }
   ],
   "source": [
    "klshpEdgeFracs, klshpPeriodicity = shp(num_nodes, \n",
    "                                       neighbors_map,\n",
    "                                       num_shards,\n",
    "                                       num_iterations,\n",
    "                                       return_periodicity = True,\n",
    "                                       initialization = np.loadtxt(initialization_file).astype(np.int32),\n",
    "                                       version = 'KL')"
   ]
  },
  {
   "cell_type": "code",
   "execution_count": 25,
   "metadata": {},
   "outputs": [
    {
     "data": {
      "image/png": "[encoded data removed]",
      "text/plain": [
       "<Figure size 432x288 with 1 Axes>"
      ]
     },
     "execution_count": 25,
     "metadata": {},
     "output_type": "execute_result"
    }
   ],
   "source": [
    "ax.plot(klshpEdgeFracs, marker = '.', label = 'KLSHP')\n",
    "ax.legend()\n",
    "fig"
   ]
  },
  {
   "cell_type": "markdown",
   "metadata": {},
   "source": [
    "### Restreaming LDG"
   ]
  },
  {
   "cell_type": "code",
   "execution_count": 26,
   "metadata": {},
   "outputs": [
    {
     "name": "stdout",
     "output_type": "stream",
     "text": [
      "Initializing structures for collecting periodicity data...\n",
      "Stream order:  random\n",
      "Computing static stream order, or first stream of dynamic order...\n",
      "Beginning reLDG...\n",
      "0: Internal edge fraction =  0.7142065099373955\n",
      "1: Internal edge fraction =  0.8666594796054303\n",
      "2: Internal edge fraction =  0.8843686400736341\n",
      "3: Internal edge fraction =  0.8880947387540987\n",
      "4: Internal edge fraction =  0.8897616537971464\n",
      "5: Internal edge fraction =  0.8903785935494918\n",
      "6: Internal edge fraction =  0.8910652900726603\n",
      "7: Internal edge fraction =  0.8911912146329775\n",
      "8: Internal edge fraction =  0.8914856425617766\n",
      "9: Internal edge fraction =  0.8915762357706379\n"
     ]
    }
   ],
   "source": [
    "reldgEdgeFracs, _, reldgPeriodicity = reldg(num_nodes, \n",
    "                                            edges, \n",
    "                                            node_indices, \n",
    "                                            neighbors_map, \n",
    "                                            num_shards, \n",
    "                                            num_iterations, \n",
    "                                            epsilon, \n",
    "                                            return_periodicity=True,\n",
    "                                            version = 'random')"
   ]
  },
  {
   "cell_type": "code",
   "execution_count": 27,
   "metadata": {},
   "outputs": [
    {
     "data": {
      "image/png": "[encoded data removed]",
      "text/plain": [
       "<Figure size 432x288 with 1 Axes>"
      ]
     },
     "execution_count": 27,
     "metadata": {},
     "output_type": "execute_result"
    }
   ],
   "source": [
    "ax.plot(np.arange(1, num_iterations + 1), reldgEdgeFracs, marker = '.', label = 'reLDG')\n",
    "ax.legend()\n",
    "fig"
   ]
  },
  {
   "cell_type": "markdown",
   "metadata": {},
   "source": [
    "#### Prioritized Restreaming"
   ]
  },
  {
   "cell_type": "code",
   "execution_count": 28,
   "metadata": {},
   "outputs": [],
   "source": [
    "bfs_order, _ = bfs_disconnected(data_directory, network, num_nodes, neighbors_map, degrees)"
   ]
  },
  {
   "cell_type": "code",
   "execution_count": 29,
   "metadata": {},
   "outputs": [
    {
     "name": "stdout",
     "output_type": "stream",
     "text": [
      "Stream order:  bfs\n",
      "Computing static stream order, or first stream of dynamic order...\n",
      "Beginning reLDG...\n",
      "0: Internal edge fraction =  0.8058578474781795\n",
      "1: Internal edge fraction =  0.8975417985741535\n",
      "2: Internal edge fraction =  0.9116326662804376\n",
      "3: Internal edge fraction =  0.9168290927407209\n",
      "4: Internal edge fraction =  0.9201792296044111\n",
      "5: Internal edge fraction =  0.9218651692213197\n",
      "6: Internal edge fraction =  0.9233345910690497\n",
      "7: Internal edge fraction =  0.9236299249299375\n",
      "8: Internal edge fraction =  0.9239605901422812\n",
      "9: Internal edge fraction =  0.924035782505636\n"
     ]
    }
   ],
   "source": [
    "reldgBFSEdgeFracs, _, _ = reldg(num_nodes, \n",
    "                                edges, \n",
    "                                node_indices, \n",
    "                                neighbors_map, \n",
    "                                num_shards, \n",
    "                                num_iterations, \n",
    "                                epsilon,\n",
    "                                version = 'bfs',\n",
    "                                bfs_order = bfs_order)"
   ]
  },
  {
   "cell_type": "code",
   "execution_count": 31,
   "metadata": {},
   "outputs": [],
   "source": [
    "ccs = compute_clustering_coefficients(data_directory, network, num_nodes, neighbors_map)"
   ]
  },
  {
   "cell_type": "code",
   "execution_count": 32,
   "metadata": {},
   "outputs": [
    {
     "name": "stdout",
     "output_type": "stream",
     "text": [
      "Stream order:  cc\n",
      "Computing static stream order, or first stream of dynamic order...\n",
      "Beginning reLDG...\n",
      "0: Internal edge fraction =  0.7230266647521302\n",
      "1: Internal edge fraction =  0.8638538079269964\n",
      "2: Internal edge fraction =  0.8805591956410171\n",
      "3: Internal edge fraction =  0.8851495535340185\n",
      "4: Internal edge fraction =  0.8861116534121253\n",
      "5: Internal edge fraction =  0.8866062923325079\n",
      "6: Internal edge fraction =  0.8871081787095993\n",
      "7: Internal edge fraction =  0.8877205888015016\n",
      "8: Internal edge fraction =  0.8878211472633377\n",
      "9: Internal edge fraction =  0.8878664438677684\n"
     ]
    }
   ],
   "source": [
    "reldgCCEdgeFracs, _, _ = reldg(num_nodes, \n",
    "                               edges, \n",
    "                               node_indices, \n",
    "                               neighbors_map, \n",
    "                               num_shards, \n",
    "                               num_iterations, \n",
    "                               epsilon,\n",
    "                               version = 'cc',\n",
    "                               ccs = ccs)"
   ]
  },
  {
   "cell_type": "code",
   "execution_count": 33,
   "metadata": {},
   "outputs": [
    {
     "name": "stdout",
     "output_type": "stream",
     "text": [
      "Stream order:  degree\n",
      "Computing static stream order, or first stream of dynamic order...\n",
      "Beginning reLDG...\n",
      "0: Internal edge fraction =  0.7710401595165222\n",
      "1: Internal edge fraction =  0.8808971083100697\n",
      "2: Internal edge fraction =  0.8945395396324906\n",
      "3: Internal edge fraction =  0.897730232448585\n",
      "4: Internal edge fraction =  0.8985682196305519\n",
      "5: Internal edge fraction =  0.8989804187308706\n",
      "6: Internal edge fraction =  0.8991380509142893\n",
      "7: Internal edge fraction =  0.899388994102835\n",
      "8: Internal edge fraction =  0.8997232830435332\n",
      "9: Internal edge fraction =  0.8997731093084069\n"
     ]
    }
   ],
   "source": [
    "reldgDegEdgeFracs, _, _ = reldg(num_nodes, \n",
    "                                edges, \n",
    "                                node_indices, \n",
    "                                neighbors_map, \n",
    "                                num_shards, \n",
    "                                num_iterations, \n",
    "                                epsilon,\n",
    "                                version = 'degree')"
   ]
  },
  {
   "cell_type": "code",
   "execution_count": 34,
   "metadata": {},
   "outputs": [
    {
     "name": "stdout",
     "output_type": "stream",
     "text": [
      "Stream order:  ambivalence\n",
      "Computing static stream order, or first stream of dynamic order...\n",
      "Beginning reLDG...\n",
      "0: Internal edge fraction =  0.7758298224690182\n",
      "1: Internal edge fraction =  0.870895618051784\n",
      "2: Internal edge fraction =  0.9005522109046139\n",
      "3: Internal edge fraction =  0.9107276401239134\n",
      "4: Internal edge fraction =  0.9138531058296276\n",
      "5: Internal edge fraction =  0.9166107631073652\n",
      "6: Internal edge fraction =  0.9174587155423068\n",
      "7: Internal edge fraction =  0.918796777237188\n",
      "8: Internal edge fraction =  0.9188302967244666\n",
      "9: Internal edge fraction =  0.9195505127349138\n"
     ]
    }
   ],
   "source": [
    "reldgAEdgeFracs, reldgAOrders, _ = reldg(num_nodes, \n",
    "                                         edges, \n",
    "                                         node_indices, \n",
    "                                         neighbors_map, \n",
    "                                         num_shards, \n",
    "                                         num_iterations, \n",
    "                                         epsilon,\n",
    "                                         return_orders = True,\n",
    "                                         version = 'ambivalence')"
   ]
  },
  {
   "cell_type": "code",
   "execution_count": 35,
   "metadata": {},
   "outputs": [
    {
     "data": {
      "image/png": "[encoded data removed]",
      "text/plain": [
       "<Figure size 432x288 with 1 Axes>"
      ]
     },
     "execution_count": 35,
     "metadata": {},
     "output_type": "execute_result"
    }
   ],
   "source": [
    "ax.plot(np.arange(1, num_iterations + 1), reldgAEdgeFracs, marker = '.', label = 'reLDG-a')\n",
    "ax.legend()\n",
    "fig"
   ]
  },
  {
   "cell_type": "code",
   "execution_count": 36,
   "metadata": {},
   "outputs": [
    {
     "name": "stdout",
     "output_type": "stream",
     "text": [
      "Stream order:  gain\n",
      "Computing static stream order, or first stream of dynamic order...\n",
      "Beginning reLDG...\n",
      "0: Internal edge fraction =  0.773062199938306\n",
      "1: Internal edge fraction =  0.8149579353082955\n",
      "2: Internal edge fraction =  0.8255645882017746\n",
      "3: Internal edge fraction =  0.8383028992997598\n",
      "4: Internal edge fraction =  0.8502340249067909\n",
      "5: Internal edge fraction =  0.8535560778757342\n",
      "6: Internal edge fraction =  0.8582768899894957\n",
      "7: Internal edge fraction =  0.8614938548361599\n",
      "8: Internal edge fraction =  0.8635014003445259\n",
      "9: Internal edge fraction =  0.8637342248912995\n"
     ]
    }
   ],
   "source": [
    "reldgGainEdgeFracs, reldgGainOrders, _ = reldg(num_nodes, \n",
    "                                               edges, \n",
    "                                               node_indices, \n",
    "                                               neighbors_map, \n",
    "                                               num_shards, \n",
    "                                               num_iterations, \n",
    "                                               epsilon,\n",
    "                                               return_orders = True,\n",
    "                                               version = 'gain')"
   ]
  },
  {
   "cell_type": "markdown",
   "metadata": {},
   "source": [
    "## Partition Quality"
   ]
  },
  {
   "cell_type": "markdown",
   "metadata": {},
   "source": [
    "Generates one row of Table 2 in the paper: final internal edge fraction after 10 iterations of synchronous algorithms (SHP-I/II/KL and BLP), and streaming (reLDG with static and dynamic stream orders). Must have run all above methods to execute."
   ]
  },
  {
   "cell_type": "code",
   "execution_count": 37,
   "metadata": {},
   "outputs": [
    {
     "name": "stdout",
     "output_type": "stream",
     "text": [
      "               shp-I  shp-II  kl-shp    blp   |  reldg   reldg-bfs  reldg-cc  reldg-deg  | reldg-g  reldg-a \n",
      "web-NotreDame  0.788   0.641   0.615   0.571  |  0.892     0.924      0.888     0.900    |  0.864    0.920  \n"
     ]
    }
   ],
   "source": [
    "fracs = [shpIEdgeFracs[-1], shpIIEdgeFracs[-1], klshpEdgeFracs[-1], blpEdgeFracs[-1], reldgEdgeFracs[-1], reldgBFSEdgeFracs[-1], reldgCCEdgeFracs[-1], reldgDegEdgeFracs[-1], reldgGainEdgeFracs[-1], reldgAEdgeFracs[-1]]\n",
    "print(\"{: <13} {: ^7} {: ^7} {: ^7} {: ^7} | {: ^8} {: ^10} {: ^9} {: ^10} | {: ^8} {: ^8}\".format('', 'shp-I', 'shp-II', 'kl-shp', 'blp', 'reldg', 'reldg-bfs', 'reldg-cc', 'reldg-deg', 'reldg-g', 'reldg-a'))\n",
    "print('{: <13} {: ^7.3f} {: ^7.3f} {: ^7.3f} {: ^7.3f} | {: ^8.3f} {: ^10.3f} {: ^9.3f} {: ^10.3f} | {: ^8.3f} {: ^8.3f}'.format(network, *fracs))"
   ]
  },
  {
   "cell_type": "markdown",
   "metadata": {},
   "source": [
    "## Plots"
   ]
  },
  {
   "cell_type": "markdown",
   "metadata": {},
   "source": [
    "### Period plots"
   ]
  },
  {
   "cell_type": "code",
   "execution_count": 38,
   "metadata": {},
   "outputs": [
    {
     "data": {
      "image/png": "[encoded data removed]",
      "text/plain": [
       "<Figure size 936x288 with 3 Axes>"
      ]
     },
     "metadata": {
      "needs_background": "light"
     },
     "output_type": "display_data"
    }
   ],
   "source": [
    "periodicities = [blpPeriodicity, klshpPeriodicity, reldgPeriodicity]\n",
    "titles = ['BLP', 'KLSHP', 'reLDG']\n",
    "period_data = []\n",
    "for data in periodicities:\n",
    "    new_row = np.sum(data[3:, :], axis=0) # sum periods >3\n",
    "    data = np.concatenate((data[0:3,:], [new_row]), axis=0)\n",
    "    data /= np.sum(data, axis=0)[None,:] # normalize\n",
    "    y = data.tolist()\n",
    "    y.append(y[0]) # put period 0 nodes at the end (for plot legend)\n",
    "    period_data.append(y)\n",
    "\n",
    "fig, ax = plt.subplots(1, 3, figsize = (13, 4), sharey=True)\n",
    "x = range(1, num_iterations+1)\n",
    "for i, title in enumerate(titles):\n",
    "    ax[i].grid(linestyle=':', color='grey')\n",
    "    ax[i].stackplot(x, period_data[i][1:], labels=['period 1', 'period 2', 'period $\\geq 3$', 'new'])\n",
    "    ax[i].set_title(title)\n",
    "    ax[i].set_xticks([1,2,3,4,5,6,7,8,9,10])\n",
    "    ax[i].set_xlabel('Iteration')\n",
    "    if i==0:\n",
    "        ax[i].set_ylabel('Nodes at period')\n",
    "    if i==1:\n",
    "        # Put a legend below current axis\n",
    "        ax[i].legend(loc='upper center', bbox_to_anchor=(0.5, -0.2), ncol=4)"
   ]
  },
  {
   "cell_type": "markdown",
   "metadata": {},
   "source": [
    "### Internal edge fraction vs incumbency parameter"
   ]
  },
  {
   "cell_type": "markdown",
   "metadata": {},
   "source": [
    "Runs a bash script to automate and parallelize collection of partition qualities for `c=[-10,10]`. Can not proceed until script is finished!"
   ]
  },
  {
   "cell_type": "code",
   "execution_count": 45,
   "metadata": {},
   "outputs": [],
   "source": [
    "# Shell script to run each method with c=[-10,10]\n",
    "if not os.path.exists('../results/' + network + '_c_finalFrac.txt'):\n",
    "    # replace web-NotreDame with your network, if different\n",
    "    !bash incumbency.sh web-NotreDame\n",
    "    # Must wait for the bash script to finish executing before continuing!"
   ]
  },
  {
   "cell_type": "code",
   "execution_count": 40,
   "metadata": {},
   "outputs": [],
   "source": [
    "data = np.loadtxt('../results/' + network + '_c_finalFrac.txt')"
   ]
  },
  {
   "cell_type": "code",
   "execution_count": 41,
   "metadata": {},
   "outputs": [
    {
     "data": {
      "text/plain": [
       "[<matplotlib.axis.XTick at 0x7ff723a31e80>,\n",
       " <matplotlib.axis.XTick at 0x7ff723a1cac0>,\n",
       " <matplotlib.axis.XTick at 0x7ff723a1c5e0>]"
      ]
     },
     "execution_count": 41,
     "metadata": {},
     "output_type": "execute_result"
    },
    {
     "data": {
      "image/png": "[encoded data removed]",
      "text/plain": [
       "<Figure size 432x288 with 1 Axes>"
      ]
     },
     "metadata": {
      "needs_background": "light"
     },
     "output_type": "display_data"
    }
   ],
   "source": [
    "fig = plt.figure()\n",
    "ax = fig.add_subplot(111)\n",
    "ax.scatter(np.array(data)[:,0], np.array(data)[:,1], marker='.', label='BLP')\n",
    "ax.scatter(np.array(data)[:,0], np.array(data)[:,2], marker='.', label='KL-SHP')\n",
    "ax.scatter(np.array(data)[:,0], np.array(data)[:,3], marker='.', label='reLDG')\n",
    "ax.set_title(network)\n",
    "ax.set_xlabel(r'Gain threshold, $c$')\n",
    "ax.set_ylabel('Final internal edge fraction')\n",
    "ax.set_ylim((0.0,1.0))\n",
    "ax.set_xticks([-10, 0, 10])"
   ]
  },
  {
   "cell_type": "markdown",
   "metadata": {},
   "source": [
    "### Rank correlation matrix of stream orders"
   ]
  },
  {
   "cell_type": "code",
   "execution_count": 42,
   "metadata": {},
   "outputs": [],
   "source": [
    "assert(len(reldgAOrders) == 2)\n",
    "assert(len(reldgGainOrders) == 2)\n",
    "\n",
    "orders = [ccs, -np.argsort(bfs_order), degrees, -reldgAOrders[0], -reldgAOrders[1]]\n",
    "orders.extend(reldgGainOrders)\n",
    "labels = ['CC', 'BFS', 'Deg', 'Amb-2', 'Amb-10', 'Gain-2', 'Gain-10']"
   ]
  },
  {
   "cell_type": "code",
   "execution_count": 43,
   "metadata": {},
   "outputs": [
    {
     "name": "stdout",
     "output_type": "stream",
     "text": [
      "Done.\n"
     ]
    }
   ],
   "source": [
    "# Computing kendall tau correlations\n",
    "taus = np.zeros((len(orders), len(orders)))\n",
    "for i in range(len(orders)):\n",
    "    for j in range(i+1):\n",
    "        tau = weightedtau(orders[i], orders[j])[0]\n",
    "        taus[i,j] = tau\n",
    "        if i != j:\n",
    "            taus[j,i] = tau"
   ]
  },
  {
   "cell_type": "code",
   "execution_count": 44,
   "metadata": {},
   "outputs": [
    {
     "data": {
      "text/plain": [
       "Text(0.5, 1, 'web-NotreDame')"
      ]
     },
     "execution_count": 44,
     "metadata": {},
     "output_type": "execute_result"
    },
    {
     "data": {
      "image/png": "[encoded data removed]",
      "text/plain": [
       "<Figure size 432x288 with 1 Axes>"
      ]
     },
     "metadata": {
      "needs_background": "light"
     },
     "output_type": "display_data"
    }
   ],
   "source": [
    "# Plotting kendall tau heat map\n",
    "fig = plt.figure()\n",
    "ax = sns.heatmap(taus, annot=True, square=True, xticklabels=labels, yticklabels=labels, cbar=False, center=0.0)\n",
    "ax.tick_params(axis='both', which='major')\n",
    "ax.set_xticks(np.arange(len(labels))+0.5)\n",
    "ax.set_yticks(np.arange(len(labels))+0.5)\n",
    "ax.set_title(network)"
   ]
  },
  {
   "cell_type": "code",
   "execution_count": null,
   "metadata": {},
   "outputs": [],
   "source": []
  }
 ],
 "metadata": {
  "kernelspec": {
   "display_name": "Python 3 (ipykernel)",
   "language": "python",
   "name": "python3"
  },
  "language_info": {
   "codemirror_mode": {
    "name": "ipython",
    "version": 3
   },
   "file_extension": ".py",
   "mimetype": "text/x-python",
   "name": "python",
   "nbconvert_exporter": "python",
   "pygments_lexer": "ipython3",
   "version": "3.10.6"
  }
 },
 "nbformat": 4,
 "nbformat_minor": 4
}
